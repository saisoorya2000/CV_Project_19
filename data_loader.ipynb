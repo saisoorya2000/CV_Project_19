{
 "cells": [
  {
   "cell_type": "code",
   "execution_count": 6,
   "metadata": {},
   "outputs": [],
   "source": [
    "import numpy as np\n",
    "import torch\n",
    "from torch.utils.data import Dataset, DataLoader\n",
    "from sklearn.model_selection import train_test_split"
   ]
  },
  {
   "cell_type": "code",
   "execution_count": 7,
   "metadata": {},
   "outputs": [],
   "source": [
    "class NTUDataset(Dataset):\n",
    "  '''Characterizes a dataset for PyTorch'''\n",
    "\n",
    "  def __init__(self, x, labels):\n",
    "        'Initialization'\n",
    "        self.labels = labels\n",
    "        self.x = x\n",
    "\n",
    "  def __len__(self):\n",
    "        'Denotes the total number of samples'\n",
    "        return len(self.x)\n",
    "\n",
    "  def __getitem__(self, index):\n",
    "        'Generates one sample of data'\n",
    "        # Select sample\n",
    "        X = self.x[index]\n",
    "        y = int(self.labels[index])\n",
    "        \n",
    "        return X, y"
   ]
  },
  {
   "cell_type": "code",
   "execution_count": 8,
   "metadata": {},
   "outputs": [],
   "source": [
    "class NTUDataloader():\n",
    "    ''' Given in paper that batch_size is 32 for VA-CNN network and skeleton maps are resized to 224x224'''\n",
    "    def __init__(self):\n",
    "        self.params ={'batch_size': 32, 'shuffle': True, 'num_workers': 8, 'pin_memory': True, 'collate_fn':self.collate_fn}\n",
    "        self.data = np.load('train_ntu_data.npy')\n",
    "        self.data_labels = np.load('train_ntu_label.npy')\n",
    "        self.test = np.load('test_ntu_data.npy')\n",
    "        self.test_labels = np.load('test_ntu_label.npy')\n",
    "        self.create_train_val_data()\n",
    "        self.train_set = NTUDataset(self.train, self.train_labels)\n",
    "        self.val_set = NTUDataset(self.val, self.val_labels)\n",
    "        self.test_set = NTUDataset(self.test, self.test_labels)\n",
    "        \n",
    "    def create_train_val_data(self,split_ratio=0.05):\n",
    "        self.train, self.val, self.train_labels, self.val_labels = train_test_split(self.data, self.data_labels, test_size=split_ratio, random_state=10000)\n",
    "        \n",
    "    def train_data_loader(self):\n",
    "        return DataLoader(self.train_set, **self.params)\n",
    "    \n",
    "    def val_data_loader(self):\n",
    "        return DataLoader(self.val_set, **self.params)    \n",
    "    \n",
    "    def collate_fn(self,batch):\n",
    "        x, y = zip(*batch)\n",
    "        x, maxmin = self.torgb(x)\n",
    "        x = torch.stack([torch.from_numpy(x[i]) for i in range(len(x))], 0)\n",
    "        y = torch.LongTensor(y)\n",
    "        return [x,torch.FloatTensor(maxmin), y]\n",
    "    \n",
    "    def torgb(self, ske_joints):\n",
    "        rgb = []\n",
    "        maxmin = list()\n",
    "        self.idx = 0\n",
    "        return rgb, maxmin\n",
    "    \n",
    "    \n",
    "    "
   ]
  }
 ],
 "metadata": {
  "kernelspec": {
   "display_name": "Python 3",
   "language": "python",
   "name": "python3"
  },
  "language_info": {
   "codemirror_mode": {
    "name": "ipython",
    "version": 3
   },
   "file_extension": ".py",
   "mimetype": "text/x-python",
   "name": "python",
   "nbconvert_exporter": "python",
   "pygments_lexer": "ipython3",
   "version": "3.7.5"
  }
 },
 "nbformat": 4,
 "nbformat_minor": 4
}
